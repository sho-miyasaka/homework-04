{
 "cells": [
  {
   "cell_type": "markdown",
   "metadata": {},
   "source": [
    "# WeatherAPI (Weather)\n",
    "\n",
    "Answer the following questions using [WeatherAPI](http://www.weatherapi.com/). I've added three cells for most questions but you're free to use more or less! Hold `Shift` and hit `Enter` to run a cell, and use the `+` on the top left to add a new cell to a notebook.\n",
    "\n",
    "Be sure to take advantage of both the documentation and the API Explorer!\n",
    "\n",
    "## 0) Import any libraries you might need\n",
    "\n",
    "- *Tip: We're going to be downloading things from the internet, so we probably need `requests`.*\n",
    "- *Tip: Remember you only need to import requests once!*"
   ]
  },
  {
   "cell_type": "code",
   "execution_count": 1,
   "metadata": {},
   "outputs": [],
   "source": [
    "import requests\n"
   ]
  },
  {
   "cell_type": "code",
   "execution_count": 2,
   "metadata": {},
   "outputs": [],
   "source": [
    "from dotenv import load_dotenv\n",
    "import os\n",
    "load_dotenv()\n",
    "API_KEY = os.getenv(\"WEATHER_API_KEY\")"
   ]
  },
  {
   "cell_type": "markdown",
   "metadata": {
    "collapsed": true
   },
   "source": [
    "## 1) Make a request to the Weather API for where you were born (or lived, or want to visit!).\n",
    "\n",
    "- *Tip: The URL we used in class was for a place near San Francisco. What was the format of the endpoint that made this happen?*\n",
    "- *Tip: Save the URL as a separate variable, and be sure to not have `[` and `]` inside.*\n",
    "- *Tip: How is north vs. south and east vs. west latitude/longitude represented? Is it the normal North/South/East/West?*\n",
    "- *Tip: You know it's JSON, but Python doesn't! Make sure you aren't trying to deal with plain text.* \n",
    "- *Tip: Once you've imported the JSON into a variable, check the timezone's name to make sure it seems like it got the right part of the world!*"
   ]
  },
  {
   "cell_type": "code",
   "execution_count": 3,
   "metadata": {},
   "outputs": [],
   "source": [
    "url = f\"http://api.weatherapi.com/v1/current.json?key={API_KEY}&q=Sapporo\"\n",
    "\n",
    "response = requests.get(url)\n",
    "sapporo_data = response.json()"
   ]
  },
  {
   "cell_type": "code",
   "execution_count": null,
   "metadata": {},
   "outputs": [],
   "source": []
  },
  {
   "cell_type": "code",
   "execution_count": null,
   "metadata": {},
   "outputs": [],
   "source": []
  },
  {
   "cell_type": "markdown",
   "metadata": {},
   "source": [
    "## 2) What's the current wind speed? How much warmer does it feel than it actually is?\n",
    "\n",
    "- *Tip: You can do this by browsing through the dictionaries, but it might be easier to read the documentation*\n",
    "- *Tip: For the second half: it **is** one temperature, and it **feels** a different temperature. Calculate the difference.*"
   ]
  },
  {
   "cell_type": "code",
   "execution_count": 4,
   "metadata": {},
   "outputs": [
    {
     "name": "stdout",
     "output_type": "stream",
     "text": [
      "The current wind speed of Sapporo is 12.5 mph.\n"
     ]
    }
   ],
   "source": [
    "sapporo_wind_mph = sapporo_data['current']['wind_mph']\n",
    "print(\"The current wind speed of\",sapporo_data['location']['name'],\"is\",sapporo_wind_mph,\"mph.\")"
   ]
  },
  {
   "cell_type": "code",
   "execution_count": 5,
   "metadata": {},
   "outputs": [
    {
     "name": "stdout",
     "output_type": "stream",
     "text": [
      "It feels just like the actual temperature.\n"
     ]
    }
   ],
   "source": [
    "sapporo_temp_f = sapporo_data['current']['temp_f']\n",
    "sapporo_feelslike_f = sapporo_data['current']['feelslike_f']\n",
    "sapporo_difference_f = round(abs(sapporo_feelslike_f - sapporo_temp_f),2)\n",
    "if sapporo_feelslike_f < sapporo_temp_f:\n",
    "    print(\"It feels\",sapporo_difference_f ,\"°F colder.\")\n",
    "elif sapporo_feelslike_f > sapporo_temp_f:\n",
    "    print(\"It feels\",sapporo_difference_f ,\"°F warmer.\")\n",
    "elif sapporo_feelslike_f == sapporo_temp_f:\n",
    "    print(\"It feels just like the actual temperature.\")"
   ]
  },
  {
   "cell_type": "code",
   "execution_count": null,
   "metadata": {},
   "outputs": [],
   "source": []
  },
  {
   "cell_type": "markdown",
   "metadata": {},
   "source": [
    "## 3) What is the API endpoint for moon-related information? For the place you decided on above, how much of the moon will be visible tomorrow?\n",
    "\n",
    "- *Tip: Check the documentation!*\n",
    "- *Tip: If you aren't sure what something means, ask in Slack*"
   ]
  },
  {
   "cell_type": "code",
   "execution_count": 6,
   "metadata": {},
   "outputs": [],
   "source": [
    "url = f\"http://api.weatherapi.com/v1/astronomy.json?key={API_KEY}&q=Sapporo&dt=2023-06-14\"\n",
    "response = requests.get(url)\n",
    "sapporo_astronomy_data = response.json()"
   ]
  },
  {
   "cell_type": "code",
   "execution_count": 7,
   "metadata": {},
   "outputs": [
    {
     "name": "stdout",
     "output_type": "stream",
     "text": [
      "Waning Crescent\n"
     ]
    }
   ],
   "source": [
    "sapporo_astro = sapporo_astronomy_data['astronomy']['astro']\n",
    "sapporo_moon_phase = sapporo_astro['moon_phase']\n",
    "print(sapporo_moon_phase)"
   ]
  },
  {
   "cell_type": "code",
   "execution_count": null,
   "metadata": {},
   "outputs": [],
   "source": []
  },
  {
   "cell_type": "markdown",
   "metadata": {},
   "source": [
    "## 4) What's the difference between the high and low temperatures for today?\n",
    "\n",
    "- *Tip: When you requested moon data, you probably overwrote your variables! If so, you'll need to make a new request.*"
   ]
  },
  {
   "cell_type": "code",
   "execution_count": 8,
   "metadata": {},
   "outputs": [],
   "source": [
    "url = f\"http://api.weatherapi.com/v1/forecast.json?key={API_KEY}&q=Sapporo&days=14\"\n",
    "response = requests.get(url)\n",
    "data = response.json()\n",
    "\n",
    "sapporo_forecastday = data['forecast']['forecastday']"
   ]
  },
  {
   "cell_type": "code",
   "execution_count": 9,
   "metadata": {},
   "outputs": [
    {
     "name": "stdout",
     "output_type": "stream",
     "text": [
      "19.6 °F\n"
     ]
    }
   ],
   "source": [
    "\n",
    "sapporo_forecastday_maxtemp_f = sapporo_forecastday[0]['day']['maxtemp_f']\n",
    "sapporo_forecastday_mintemp_f = sapporo_forecastday[0]['day']['mintemp_f']\n",
    "print(round(sapporo_forecastday_maxtemp_f - sapporo_forecastday_mintemp_f,1),\"°F\")"
   ]
  },
  {
   "cell_type": "markdown",
   "metadata": {
    "collapsed": true
   },
   "source": [
    "## 4.5) How can you avoid the \"oh no I don't have the data any more because I made another request\" problem in the future?\n",
    "\n",
    "What variable(s) do you have to rename, and what would you rename them?"
   ]
  },
  {
   "cell_type": "markdown",
   "metadata": {},
   "source": [
    "#rename data as sapporo_data"
   ]
  },
  {
   "cell_type": "code",
   "execution_count": 10,
   "metadata": {},
   "outputs": [],
   "source": [
    "sapporo_data = data"
   ]
  },
  {
   "cell_type": "code",
   "execution_count": null,
   "metadata": {},
   "outputs": [],
   "source": []
  },
  {
   "cell_type": "markdown",
   "metadata": {},
   "source": [
    "## 5) Go through the daily forecasts, printing out the next three days' worth of predictions.\n",
    "\n",
    "I'd like to know the **high temperature** for each day, and whether it's **hot, warm, or cold** (based on what temperatures you think are hot, warm or cold).\n",
    "\n",
    "- *Tip: You'll need to use an `if` statement to say whether it is hot, warm or cold.*"
   ]
  },
  {
   "cell_type": "code",
   "execution_count": 11,
   "metadata": {},
   "outputs": [],
   "source": [
    "sapporo_forecastdays = data['forecast']['forecastday']"
   ]
  },
  {
   "cell_type": "code",
   "execution_count": 12,
   "metadata": {
    "scrolled": true
   },
   "outputs": [
    {
     "name": "stdout",
     "output_type": "stream",
     "text": [
      "--------\n",
      "74.5 °F\n",
      "warm\n",
      "--------\n",
      "77.5 °F\n",
      "warm\n",
      "--------\n",
      "60.4 °F\n",
      "warm\n"
     ]
    }
   ],
   "source": [
    "for sapporo_forecastday in sapporo_forecastdays[1:4]:\n",
    "    sapporo_maxtemp_f = sapporo_forecastday['day']['maxtemp_f']\n",
    "    print(\"--------\")\n",
    "    print(sapporo_maxtemp_f,\"°F\")\n",
    "    if sapporo_maxtemp_f > 90:\n",
    "        print(\"hot\")\n",
    "    elif sapporo_maxtemp_f > 60:\n",
    "        print(\"warm\")\n",
    "    else:\n",
    "        print(\"cold\")"
   ]
  },
  {
   "cell_type": "code",
   "execution_count": null,
   "metadata": {},
   "outputs": [],
   "source": []
  },
  {
   "cell_type": "markdown",
   "metadata": {},
   "source": [
    "## 5b) The question above used to be an entire week, but not any more. Try to re-use the code above to print out seven days.\n",
    "\n",
    "What happens? Can you figure out why it doesn't work?\n",
    "\n",
    "* *Tip: it has to do with the reason you're using an API key - maybe take a look at the \"Air Quality Data\" introduction for a hint? If you can't figure it out right now, no worries.*"
   ]
  },
  {
   "cell_type": "code",
   "execution_count": 13,
   "metadata": {},
   "outputs": [
    {
     "name": "stdout",
     "output_type": "stream",
     "text": [
      "--------\n",
      "74.5 °F\n",
      "warm\n",
      "--------\n",
      "77.5 °F\n",
      "warm\n",
      "--------\n",
      "60.4 °F\n",
      "warm\n",
      "--------\n",
      "68.0 °F\n",
      "warm\n",
      "--------\n",
      "72.1 °F\n",
      "warm\n",
      "--------\n",
      "71.4 °F\n",
      "warm\n",
      "--------\n",
      "71.4 °F\n",
      "warm\n"
     ]
    }
   ],
   "source": [
    "for sapporo_forecastday in sapporo_forecastdays[1:8]:\n",
    "    sapporo_maxtemp_f = sapporo_forecastday['day']['maxtemp_f']\n",
    "    print(\"--------\")\n",
    "    print(sapporo_maxtemp_f,\"°F\")\n",
    "    if sapporo_maxtemp_f > 90:\n",
    "        print(\"hot\")\n",
    "    elif sapporo_maxtemp_f > 60:\n",
    "        print(\"warm\")\n",
    "    else:\n",
    "        print(\"cold\")"
   ]
  },
  {
   "cell_type": "code",
   "execution_count": null,
   "metadata": {},
   "outputs": [],
   "source": []
  },
  {
   "cell_type": "code",
   "execution_count": null,
   "metadata": {},
   "outputs": [],
   "source": []
  },
  {
   "cell_type": "markdown",
   "metadata": {},
   "source": [
    "6) What will be the hottest day in the next three days? What is the high temperature on that day?"
   ]
  },
  {
   "cell_type": "code",
   "execution_count": 14,
   "metadata": {},
   "outputs": [
    {
     "name": "stdout",
     "output_type": "stream",
     "text": [
      "2023-06-17\n",
      "2023-06-18\n",
      "60.4 °F\n"
     ]
    }
   ],
   "source": [
    "maxtemp = 0\n",
    "for sapporo_forecastday in sapporo_forecastdays[1:4]:\n",
    "    sapporo_maxtemp_f = sapporo_forecastday['day']['maxtemp_f']\n",
    "    if sapporo_maxtemp_f > maxtemp:\n",
    "        maxtemp = sapporo_maxtemp_f\n",
    "    else:\n",
    "        pass\n",
    "\n",
    "for sapporo_forecastday in sapporo_forecastdays[1:4]:\n",
    "    if sapporo_forecastday['day']['maxtemp_f'] == maxtemp:\n",
    "        maxtemp = sapporo_maxtemp_f\n",
    "        print(sapporo_forecastday['date'])\n",
    "    else:\n",
    "        pass\n",
    "print(maxtemp,\"°F\")"
   ]
  },
  {
   "cell_type": "code",
   "execution_count": null,
   "metadata": {},
   "outputs": [],
   "source": []
  },
  {
   "cell_type": "markdown",
   "metadata": {},
   "source": [
    "## 7) What's the weather looking like for the next 24+ hours in Miami, Florida?\n",
    "\n",
    "I'd like to know the temperature for every hour, and if it's going to have cloud cover of more than 50% say \"{temperature} and cloudy\" instead of just the temperature. \n",
    "\n",
    "- *Tip: You'll only need one day of forecast*"
   ]
  },
  {
   "cell_type": "code",
   "execution_count": 15,
   "metadata": {},
   "outputs": [],
   "source": [
    "url = f\"http://api.weatherapi.com/v1/forecast.json?key={API_KEY}&q=Miami&days=2\"\n",
    "response = requests.get(url)\n",
    "data = response.json()\n"
   ]
  },
  {
   "cell_type": "code",
   "execution_count": 16,
   "metadata": {},
   "outputs": [
    {
     "name": "stdout",
     "output_type": "stream",
     "text": [
      "--------\n",
      "2023-06-15 00:00\n",
      "Temprature: 83.8 °F\n",
      "It's will be cloudy\n",
      "--------\n",
      "2023-06-15 01:00\n",
      "Temprature: 83.7 °F\n",
      "It's will be cloudy\n",
      "--------\n",
      "2023-06-15 02:00\n",
      "Temprature: 83.5 °F\n",
      "It's will be cloudy\n",
      "--------\n",
      "2023-06-15 03:00\n",
      "Temprature: 83.1 °F\n",
      "--------\n",
      "2023-06-15 04:00\n",
      "Temprature: 82.9 °F\n",
      "--------\n",
      "2023-06-15 05:00\n",
      "Temprature: 82.8 °F\n",
      "--------\n",
      "2023-06-15 06:00\n",
      "Temprature: 82.6 °F\n",
      "--------\n",
      "2023-06-15 07:00\n",
      "Temprature: 82.6 °F\n",
      "--------\n",
      "2023-06-15 08:00\n",
      "Temprature: 83.3 °F\n",
      "--------\n",
      "2023-06-15 09:00\n",
      "Temprature: 84.2 °F\n",
      "--------\n",
      "2023-06-15 10:00\n",
      "Temprature: 84.6 °F\n",
      "--------\n",
      "2023-06-15 11:00\n",
      "Temprature: 91.4 °F\n",
      "--------\n",
      "2023-06-15 12:00\n",
      "Temprature: 92.5 °F\n",
      "--------\n",
      "2023-06-15 13:00\n",
      "Temprature: 89.1 °F\n",
      "--------\n",
      "2023-06-15 14:00\n",
      "Temprature: 93.6 °F\n",
      "--------\n",
      "2023-06-15 15:00\n",
      "Temprature: 93.4 °F\n",
      "--------\n",
      "2023-06-15 16:00\n",
      "Temprature: 93.6 °F\n",
      "--------\n",
      "2023-06-15 17:00\n",
      "Temprature: 92.8 °F\n",
      "--------\n",
      "2023-06-15 18:00\n",
      "Temprature: 90.9 °F\n",
      "--------\n",
      "2023-06-15 19:00\n",
      "Temprature: 88.7 °F\n",
      "--------\n",
      "2023-06-15 20:00\n",
      "Temprature: 86.7 °F\n",
      "--------\n",
      "2023-06-15 21:00\n",
      "Temprature: 86.0 °F\n",
      "--------\n",
      "2023-06-15 22:00\n",
      "Temprature: 85.6 °F\n",
      "--------\n",
      "2023-06-15 23:00\n",
      "Temprature: 84.6 °F\n"
     ]
    }
   ],
   "source": [
    "miami_forecastday = data['forecast']['forecastday'][1]\n",
    "miami_hours = miami_forecastday['hour']\n",
    "for miami_hour in miami_hours:\n",
    "    print('--------')\n",
    "    print(miami_hour['time'])\n",
    "    print('Temprature:',miami_hour['temp_f'],\"°F\")\n",
    "    if miami_hour['cloud']>50:\n",
    "        print(\"It's will be cloudy\")\n",
    "    "
   ]
  },
  {
   "cell_type": "code",
   "execution_count": null,
   "metadata": {},
   "outputs": [],
   "source": []
  },
  {
   "cell_type": "markdown",
   "metadata": {},
   "source": [
    "## 8) For the next 24-ish hours in Miami, what percent of the time is the temperature above 85 degrees?\n",
    "\n",
    "- *Tip: You might want to read up on [looping patterns](http://jonathansoma.com/lede/foundations-2017/classes/data%20structures/looping-patterns/)*"
   ]
  },
  {
   "cell_type": "code",
   "execution_count": 17,
   "metadata": {},
   "outputs": [
    {
     "name": "stdout",
     "output_type": "stream",
     "text": [
      "50.0 % is above 85 °F\n"
     ]
    }
   ],
   "source": [
    "count = 0 \n",
    "count_miami_temp = 0\n",
    "\n",
    "for miami_hour in miami_hours:\n",
    "    count = count + 1\n",
    "    if miami_hour['temp_f'] > 85:\n",
    "        count_miami_temp =  count_miami_temp +1\n",
    "    \n",
    "print(round((count_miami_temp/count)*100,2),\"% is above 85 °F\")\n"
   ]
  },
  {
   "cell_type": "code",
   "execution_count": null,
   "metadata": {},
   "outputs": [],
   "source": []
  },
  {
   "cell_type": "code",
   "execution_count": null,
   "metadata": {},
   "outputs": [],
   "source": []
  },
  {
   "cell_type": "markdown",
   "metadata": {},
   "source": [
    "## 9) How much will it cost if you need to use 1,500,000 API calls?\n",
    "\n",
    "You are only allowed 1,000,000 API calls each month. If you were really bad at this homework or made some awful loops, WeatherAPI might shut down your free access. \n",
    "\n",
    "* *Tip: this involves looking somewhere that isn't the normal documentation.*"
   ]
  },
  {
   "cell_type": "markdown",
   "metadata": {},
   "source": [
    "$4"
   ]
  },
  {
   "cell_type": "code",
   "execution_count": null,
   "metadata": {},
   "outputs": [],
   "source": []
  },
  {
   "cell_type": "markdown",
   "metadata": {},
   "source": [
    "## 10) You're too poor to spend more money! What else could you do instead of give them money?\n",
    "\n",
    "* *Tip: I'm not endorsing being sneaky, but newsrooms and students are both generally poverty-stricken.*"
   ]
  },
  {
   "cell_type": "markdown",
   "metadata": {},
   "source": [
    "Discuss custom plans"
   ]
  }
 ],
 "metadata": {
  "kernelspec": {
   "display_name": "Python 3 (ipykernel)",
   "language": "python",
   "name": "python3"
  },
  "language_info": {
   "codemirror_mode": {
    "name": "ipython",
    "version": 3
   },
   "file_extension": ".py",
   "mimetype": "text/x-python",
   "name": "python",
   "nbconvert_exporter": "python",
   "pygments_lexer": "ipython3",
   "version": "3.10.11"
  }
 },
 "nbformat": 4,
 "nbformat_minor": 1
}
